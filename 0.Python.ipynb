{
 "cells": [
  {
   "cell_type": "code",
   "execution_count": null,
   "id": "c7fb01c6-1d75-4e53-ba22-09b40cd3ee03",
   "metadata": {},
   "outputs": [],
   "source": [
    "# scala type \n",
    "# : 단일 값을 담는 자료형 \n",
    "# : None, 'str' \"문자열\", bytes, float(소수점), bool(True, False), int(정수 +,-)\n",
    "\n"
   ]
  },
  {
   "cell_type": "code",
   "execution_count": 1,
   "id": "02c66e53-460f-4d6c-9cbc-f688f504f554",
   "metadata": {},
   "outputs": [
    {
     "name": "stdout",
     "output_type": "stream",
     "text": [
      "this\\is\\test\n"
     ]
    }
   ],
   "source": [
    "# \\\\ =   r (raw)\n",
    "\n",
    "s = r'this\\is\\test'\n",
    "\n",
    "print(s)"
   ]
  },
  {
   "cell_type": "code",
   "execution_count": 2,
   "id": "fa4cd9a4-2577-4274-aad9-337eb093b8d5",
   "metadata": {},
   "outputs": [
    {
     "name": "stdout",
     "output_type": "stream",
     "text": [
      "this\\is\\test\n"
     ]
    }
   ],
   "source": [
    "a = 'this\\\\is\\\\test'\n",
    "print(a)"
   ]
  },
  {
   "cell_type": "code",
   "execution_count": null,
   "id": "f30547e6-232b-4aaa-9068-814fb1b62d51",
   "metadata": {},
   "outputs": [],
   "source": []
  }
 ],
 "metadata": {
  "kernelspec": {
   "display_name": "Python 3",
   "language": "python",
   "name": "python3"
  },
  "language_info": {
   "codemirror_mode": {
    "name": "ipython",
    "version": 3
   },
   "file_extension": ".py",
   "mimetype": "text/x-python",
   "name": "python",
   "nbconvert_exporter": "python",
   "pygments_lexer": "ipython3",
   "version": "3.7.10"
  }
 },
 "nbformat": 4,
 "nbformat_minor": 5
}
