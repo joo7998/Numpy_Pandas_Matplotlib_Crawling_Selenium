{
 "cells": [
  {
   "cell_type": "code",
   "execution_count": 1,
   "id": "3cf73b8a",
   "metadata": {},
   "outputs": [],
   "source": [
    "x=[2,2]\n",
    "y=[1,2]\n",
    "z=[-3,5]\n",
    "\n",
    "\n"
   ]
  },
  {
   "cell_type": "code",
   "execution_count": 2,
   "id": "6f4ee3f3",
   "metadata": {},
   "outputs": [],
   "source": [
    "result=[]"
   ]
  },
  {
   "cell_type": "code",
   "execution_count": 3,
   "id": "89e3fb10",
   "metadata": {},
   "outputs": [],
   "source": [
    "for i in range(len(x)):\n",
    "    result.append(x[i] + y[i] + z[i])\n",
    "    "
   ]
  },
  {
   "cell_type": "code",
   "execution_count": 4,
   "id": "7afb0e14",
   "metadata": {},
   "outputs": [
    {
     "name": "stdout",
     "output_type": "stream",
     "text": [
      "[0, 9]\n"
     ]
    }
   ],
   "source": [
    "print(result)"
   ]
  },
  {
   "cell_type": "code",
   "execution_count": null,
   "id": "08551883",
   "metadata": {},
   "outputs": [],
   "source": []
  },
  {
   "cell_type": "code",
   "execution_count": 5,
   "id": "97d2682b",
   "metadata": {},
   "outputs": [],
   "source": [
    "# list comprehension \n",
    "\n",
    "result = [sum(t) for t in zip(x,y,z)]"
   ]
  },
  {
   "cell_type": "code",
   "execution_count": 6,
   "id": "7e6697b8",
   "metadata": {},
   "outputs": [
    {
     "name": "stdout",
     "output_type": "stream",
     "text": [
      "[0, 9]\n"
     ]
    }
   ],
   "source": [
    "print(result)"
   ]
  },
  {
   "cell_type": "code",
   "execution_count": null,
   "id": "83c749e1",
   "metadata": {},
   "outputs": [],
   "source": []
  },
  {
   "cell_type": "code",
   "execution_count": 7,
   "id": "d12d51bc",
   "metadata": {},
   "outputs": [],
   "source": [
    "# packing(args가 packing), unpacking(*를 args가 풀어줌) \n",
    "# 인자로 받은 여러개의 값을 하나의 객체로 합쳐서 받을 수 \n",
    "# 위치인자 패킹은 *한개를 매개변수 앞에 붙임으로 사용\n",
    "# ==> 위치인자로 보낸 모든 객체들을 하나의 객체로 관리\n"
   ]
  },
  {
   "cell_type": "code",
   "execution_count": 8,
   "id": "bacd3a97",
   "metadata": {},
   "outputs": [],
   "source": [
    "def vector_addition(*args):\n",
    "    return [sum(t) for t in zip(*args)]"
   ]
  },
  {
   "cell_type": "code",
   "execution_count": 9,
   "id": "291c582c",
   "metadata": {},
   "outputs": [
    {
     "name": "stdout",
     "output_type": "stream",
     "text": [
      "[0, 9]\n"
     ]
    }
   ],
   "source": [
    "x=[2,2]\n",
    "y=[1,2]\n",
    "z=[-3,5]\n",
    "print(vector_addition(x,y,z))"
   ]
  },
  {
   "cell_type": "code",
   "execution_count": 10,
   "id": "007e3651",
   "metadata": {},
   "outputs": [
    {
     "name": "stdout",
     "output_type": "stream",
     "text": [
      "[0, 9]\n"
     ]
    }
   ],
   "source": [
    "vector = [[2,2],[1,2],[-3,5]]\n",
    "print(vector_addition(*vector))\n",
    "\n"
   ]
  },
  {
   "cell_type": "code",
   "execution_count": null,
   "id": "a565bdd1",
   "metadata": {},
   "outputs": [],
   "source": []
  },
  {
   "cell_type": "code",
   "execution_count": 11,
   "id": "9605cc6b",
   "metadata": {},
   "outputs": [],
   "source": [
    "import numpy as np\n",
    "\n",
    "\n"
   ]
  },
  {
   "cell_type": "code",
   "execution_count": 12,
   "id": "8610876f",
   "metadata": {},
   "outputs": [],
   "source": [
    "nx = np.array([2,2])\n",
    "ny = np.array([1,2])\n",
    "nz = np.array([-3,5])"
   ]
  },
  {
   "cell_type": "code",
   "execution_count": 13,
   "id": "8198a9a5",
   "metadata": {},
   "outputs": [
    {
     "name": "stdout",
     "output_type": "stream",
     "text": [
      "[0 9]\n"
     ]
    }
   ],
   "source": [
    "sum = nx + ny + nz\n",
    "print(sum)"
   ]
  },
  {
   "cell_type": "code",
   "execution_count": 14,
   "id": "9e624ac5",
   "metadata": {},
   "outputs": [],
   "source": [
    "# vector & scala 연산\n",
    "\n",
    "# nu = α(u+v)= αu + αv\n",
    "# 2([1,2,3] + [4,3,3]) = 2[5,5,6] = [10,10,12]"
   ]
  },
  {
   "cell_type": "code",
   "execution_count": 15,
   "id": "ab31cc6a",
   "metadata": {},
   "outputs": [],
   "source": [
    "u = [1,2,3]\n",
    "v = [4,3,3]\n",
    "alpha = 2"
   ]
  },
  {
   "cell_type": "code",
   "execution_count": 16,
   "id": "1cc30d67",
   "metadata": {},
   "outputs": [],
   "source": [
    "del sum"
   ]
  },
  {
   "cell_type": "code",
   "execution_count": 17,
   "id": "2aede8bf",
   "metadata": {},
   "outputs": [
    {
     "name": "stdout",
     "output_type": "stream",
     "text": [
      "[10, 10, 12]\n"
     ]
    }
   ],
   "source": [
    "result = [alpha * sum(t) for t in zip(u,v)]\n",
    "print(result)"
   ]
  },
  {
   "cell_type": "code",
   "execution_count": 18,
   "id": "9c6d14f2",
   "metadata": {},
   "outputs": [
    {
     "name": "stdout",
     "output_type": "stream",
     "text": [
      "[10 10 12]\n"
     ]
    }
   ],
   "source": [
    "nu = np.array([1,2,3])\n",
    "nv = np.array([4,3,3])\n",
    "alpha = 2\n",
    "result = (nu+ nv) * alpha\n",
    "print(result)"
   ]
  },
  {
   "cell_type": "code",
   "execution_count": 19,
   "id": "949e76c5",
   "metadata": {},
   "outputs": [],
   "source": [
    "# 행렬 \n"
   ]
  },
  {
   "cell_type": "code",
   "execution_count": 20,
   "id": "446ce96b",
   "metadata": {},
   "outputs": [],
   "source": [
    "# 행렬 +  \n",
    "\n",
    "matrix_a = [[3,6], [4,5]]\n",
    "matrix_b = [[5,8], [6,7]]"
   ]
  },
  {
   "cell_type": "code",
   "execution_count": 21,
   "id": "3db8f91a",
   "metadata": {},
   "outputs": [
    {
     "name": "stdout",
     "output_type": "stream",
     "text": [
      "[[8, 14], [10, 12]]\n"
     ]
    }
   ],
   "source": [
    "result = [[sum(row) for row in zip(*t)] for t in zip(matrix_a, matrix_b)]\n",
    "print(result)"
   ]
  },
  {
   "cell_type": "code",
   "execution_count": 22,
   "id": "853cfb21",
   "metadata": {},
   "outputs": [
    {
     "name": "stdout",
     "output_type": "stream",
     "text": [
      "[3, 6] [5, 8]\n",
      "[4, 5] [6, 7]\n"
     ]
    }
   ],
   "source": [
    "# 분석하는 법\n",
    "for t in zip(matrix_a, matrix_b):\n",
    "    print(*t)\n"
   ]
  },
  {
   "cell_type": "code",
   "execution_count": 23,
   "id": "a8c4d011",
   "metadata": {},
   "outputs": [],
   "source": [
    "# 행렬 +   numpy 로 "
   ]
  },
  {
   "cell_type": "code",
   "execution_count": 24,
   "id": "47bca91a",
   "metadata": {},
   "outputs": [
    {
     "name": "stdout",
     "output_type": "stream",
     "text": [
      "[[ 8 14]\n",
      " [10 12]]\n"
     ]
    }
   ],
   "source": [
    "nmatrix_a = np.array([[3,6], [4,5]])\n",
    "nmatrix_b = np.array([[5,8], [6,7]])\n",
    "\n",
    "result = nmatrix_a + nmatrix_b\n",
    "print(result)"
   ]
  },
  {
   "cell_type": "code",
   "execution_count": null,
   "id": "8fe3e4a3",
   "metadata": {},
   "outputs": [],
   "source": []
  },
  {
   "cell_type": "code",
   "execution_count": 25,
   "id": "ae6a2a81",
   "metadata": {},
   "outputs": [],
   "source": [
    "# 전체 행렬\n",
    "\n",
    "# Matrix Transpose (t)\n",
    "\n",
    "# a = [[1,2,3][4,5,6]]\n",
    "# a_t =[[1,4][2,5][3,6]]\n",
    "\n"
   ]
  },
  {
   "cell_type": "code",
   "execution_count": 26,
   "id": "2b07dd60",
   "metadata": {},
   "outputs": [],
   "source": [
    "matrix_a = [[1,2,3],[4,5,6]]"
   ]
  },
  {
   "cell_type": "code",
   "execution_count": 27,
   "id": "bff384c1",
   "metadata": {},
   "outputs": [
    {
     "name": "stdout",
     "output_type": "stream",
     "text": [
      "[[1, 4], [2, 5], [3, 6]]\n"
     ]
    }
   ],
   "source": [
    "result = [[row for row in t] for t in zip(*matrix_a)]\n",
    "\n",
    "print(result)"
   ]
  },
  {
   "cell_type": "raw",
   "id": "f66c1301",
   "metadata": {},
   "source": [
    "example = [[1,2][3,4][5,6][7,8]]"
   ]
  },
  {
   "cell_type": "code",
   "execution_count": 29,
   "id": "c277927f",
   "metadata": {},
   "outputs": [
    {
     "name": "stdout",
     "output_type": "stream",
     "text": [
      "[[1, 4], [2, 5]]\n"
     ]
    }
   ],
   "source": [
    "transpose = [[row[i] for row in matrix_a] for i in range(2)]\n",
    "print(transpose)"
   ]
  },
  {
   "cell_type": "code",
   "execution_count": null,
   "id": "0ba87bd5",
   "metadata": {},
   "outputs": [],
   "source": [
    "#matrix_a = np."
   ]
  },
  {
   "cell_type": "code",
   "execution_count": null,
   "id": "365fc1e6",
   "metadata": {},
   "outputs": [],
   "source": [
    "# 21/06/21 TUE"
   ]
  },
  {
   "cell_type": "code",
   "execution_count": null,
   "id": "6e028265",
   "metadata": {},
   "outputs": [],
   "source": [
    "matrix_a = [[1,1,2],[2,1,1]]\n",
    "matrix_b = [[1,1],[2,1],[1,3]]"
   ]
  },
  {
   "cell_type": "code",
   "execution_count": null,
   "id": "8a4a191c",
   "metadata": {},
   "outputs": [],
   "source": [
    "result = [[sum(a*b for a, b in zip(row_a, column_b)) for column_b in zip(*matrix_b)] for row_a in matrix_a]\n",
    "print(result)"
   ]
  },
  {
   "cell_type": "code",
   "execution_count": null,
   "id": "9e2f6f2d",
   "metadata": {},
   "outputs": [],
   "source": [
    "matrix_a = np.array([[1,1,2],[2,1,1]])\n",
    "matrix_b = np.array([[1,1],[2,1],[1,3]])\n",
    "result = matrix_a.dot(matrix_b)\n",
    "print(result)"
   ]
  }
 ],
 "metadata": {
  "kernelspec": {
   "display_name": "Python 3",
   "language": "python",
   "name": "python3"
  },
  "language_info": {
   "codemirror_mode": {
    "name": "ipython",
    "version": 3
   },
   "file_extension": ".py",
   "mimetype": "text/x-python",
   "name": "python",
   "nbconvert_exporter": "python",
   "pygments_lexer": "ipython3",
   "version": "3.7.10"
  },
  "toc": {
   "base_numbering": 1,
   "nav_menu": {},
   "number_sections": true,
   "sideBar": true,
   "skip_h1_title": false,
   "title_cell": "Table of Contents",
   "title_sidebar": "Contents",
   "toc_cell": false,
   "toc_position": {},
   "toc_section_display": true,
   "toc_window_display": false
  }
 },
 "nbformat": 4,
 "nbformat_minor": 5
}
