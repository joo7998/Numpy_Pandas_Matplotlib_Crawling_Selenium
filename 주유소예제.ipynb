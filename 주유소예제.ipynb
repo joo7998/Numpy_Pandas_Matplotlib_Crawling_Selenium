{
 "cells": [
  {
   "cell_type": "code",
   "execution_count": 7,
   "id": "d8c071ce-1272-48b4-acc8-45ec8c20b09e",
   "metadata": {},
   "outputs": [],
   "source": [
    "from selenium import webdriver"
   ]
  },
  {
   "cell_type": "code",
   "execution_count": 8,
   "id": "65ee2430-686d-412b-9103-ea40a8c5c421",
   "metadata": {},
   "outputs": [],
   "source": [
    "driver = webdriver.Chrome(\"driver/chromedriver.exe\")"
   ]
  },
  {
   "cell_type": "code",
   "execution_count": null,
   "id": "26e0b16a-22ec-441e-bd50-2e69883e56fb",
   "metadata": {},
   "outputs": [],
   "source": [
    "driver.get(\"https://www.opinet.co.kr\")"
   ]
  },
  {
   "cell_type": "code",
   "execution_count": null,
   "id": "80624068-29b3-4eb4-8ee5-b39ed7eb0784",
   "metadata": {},
   "outputs": [],
   "source": [
    "driver.get('http://www.opinet.co.kr/searRgSelect.do')"
   ]
  },
  {
   "cell_type": "code",
   "execution_count": null,
   "id": "78edd3f8-aed1-48ac-9199-2cfaf529ac6e",
   "metadata": {},
   "outputs": [],
   "source": []
  }
 ],
 "metadata": {
  "kernelspec": {
   "display_name": "Python 3",
   "language": "python",
   "name": "python3"
  },
  "language_info": {
   "codemirror_mode": {
    "name": "ipython",
    "version": 3
   },
   "file_extension": ".py",
   "mimetype": "text/x-python",
   "name": "python",
   "nbconvert_exporter": "python",
   "pygments_lexer": "ipython3",
   "version": "3.7.10"
  }
 },
 "nbformat": 4,
 "nbformat_minor": 5
}
