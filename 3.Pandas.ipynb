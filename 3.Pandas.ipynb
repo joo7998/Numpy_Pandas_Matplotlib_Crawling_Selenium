{
 "cells": [
  {
   "cell_type": "code",
   "execution_count": 3,
   "metadata": {},
   "outputs": [],
   "source": [
    "import pandas as pd\n",
    "import numpy as np"
   ]
  },
  {
   "cell_type": "code",
   "execution_count": 8,
   "metadata": {},
   "outputs": [
    {
     "name": "stdout",
     "output_type": "stream",
     "text": [
      "             A   B   C\n",
      "2020-04-01   1   2   3\n",
      "2020-04-02   4   5   6\n",
      "2020-04-03   7   8   9\n",
      "2020-04-04  10  11  12\n"
     ]
    }
   ],
   "source": [
    "data = np.array([[1,2,3],[4,5,6],[7,8,9],[10,11,12]])\n",
    "index_date = pd.date_range('2020-04-01', periods=4)\n",
    "column_list = ['A', 'B', 'C']\n",
    "df = pd.DataFrame(data, index=index_date, columns=column_list)  #python sytle : arument에서는 =붙여서씀\n",
    "print(df)"
   ]
  },
  {
   "cell_type": "code",
   "execution_count": 15,
   "metadata": {},
   "outputs": [
    {
     "name": "stdout",
     "output_type": "stream",
     "text": [
      "   year location  num\n",
      "0  2019    seoul  100\n",
      "1  2020    busan  199\n",
      "2  2021    seoul  200\n"
     ]
    }
   ],
   "source": [
    "# panda data frame 을 dictionary 이용해 만들기\n",
    "# 'key'값이 column 명이 됨\n",
    "data = {'year':[2019, 2020, 2021], 'location':['seoul', 'busan', 'seoul'], 'num':[100, 199, 200]}\n",
    "df = pd.DataFrame(data)\n",
    "print(df)"
   ]
  },
  {
   "cell_type": "code",
   "execution_count": 16,
   "metadata": {},
   "outputs": [
    {
     "name": "stdout",
     "output_type": "stream",
     "text": [
      "0    seoul\n",
      "1    busan\n",
      "2    seoul\n",
      "Name: location, dtype: object\n"
     ]
    }
   ],
   "source": [
    "# 열 선택  (location만)\n",
    "print(df['location'])"
   ]
  },
  {
   "cell_type": "code",
   "execution_count": 18,
   "metadata": {},
   "outputs": [
    {
     "name": "stdout",
     "output_type": "stream",
     "text": [
      "year         2020\n",
      "location    busan\n",
      "num           199\n",
      "Name: 1, dtype: object\n",
      "   year location  num\n",
      "0  2019    seoul  100\n",
      "1  2020    busan  199\n",
      "2  2021    seoul  200\n"
     ]
    }
   ],
   "source": [
    "# 행 선택 [index num]\n",
    "print(df.loc[1])\n",
    "\n",
    "print(df.loc[0:2])"
   ]
  },
  {
   "cell_type": "code",
   "execution_count": null,
   "metadata": {},
   "outputs": [],
   "source": []
  }
 ],
 "metadata": {
  "kernelspec": {
   "display_name": "Python 3",
   "language": "python",
   "name": "python3"
  },
  "language_info": {
   "codemirror_mode": {
    "name": "ipython",
    "version": 3
   },
   "file_extension": ".py",
   "mimetype": "text/x-python",
   "name": "python",
   "nbconvert_exporter": "python",
   "pygments_lexer": "ipython3",
   "version": "3.7.10"
  },
  "toc": {
   "base_numbering": 1,
   "nav_menu": {},
   "number_sections": true,
   "sideBar": true,
   "skip_h1_title": false,
   "title_cell": "Table of Contents",
   "title_sidebar": "Contents",
   "toc_cell": false,
   "toc_position": {},
   "toc_section_display": true,
   "toc_window_display": false
  }
 },
 "nbformat": 4,
 "nbformat_minor": 4
}
